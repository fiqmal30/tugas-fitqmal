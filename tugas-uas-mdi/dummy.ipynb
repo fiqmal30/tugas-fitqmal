{
 "cells": [
  {
   "cell_type": "code",
   "execution_count": 1,
   "id": "abf2e664-af18-4213-875c-bbb55f981180",
   "metadata": {},
   "outputs": [
    {
     "data": {
      "text/plain": [
       "(   Column_1  Column_2  Column_3  Column_4  Column_5\n",
       " 0  0.374540  0.950714  0.731994  0.598658  0.156019\n",
       " 1  0.155995  0.058084  0.866176  0.601115  0.708073\n",
       " 2  0.020584  0.969910  0.832443  0.212339  0.181825\n",
       " 3  0.183405  0.304242  0.524756  0.431945  0.291229\n",
       " 4  0.611853  0.139494  0.292145  0.366362  0.456070,\n",
       " (100, 5))"
      ]
     },
     "execution_count": 1,
     "metadata": {},
     "output_type": "execute_result"
    }
   ],
   "source": [
    "import pandas as pd\n",
    "import numpy as np\n",
    "\n",
    "np.random.seed(42)\n",
    "\n",
    "n_rows = 100\n",
    "n_cols = 5\n",
    "\n",
    "data = np.random.rand(n_rows, n_cols)\n",
    "columns = [f'Column_{i+1}' for i in range(n_cols)]\n",
    "\n",
    "df = pd.DataFrame(data, columns=columns)\n",
    "\n",
    "df.head(), df.shape"
   ]
  },
  {
   "cell_type": "code",
   "execution_count": null,
   "id": "05ec28ae-322f-451a-baed-cf650ca0e0f7",
   "metadata": {},
   "outputs": [],
   "source": []
  }
 ],
 "metadata": {
  "kernelspec": {
   "display_name": "Python 3 (ipykernel)",
   "language": "python",
   "name": "python3"
  },
  "language_info": {
   "codemirror_mode": {
    "name": "ipython",
    "version": 3
   },
   "file_extension": ".py",
   "mimetype": "text/x-python",
   "name": "python",
   "nbconvert_exporter": "python",
   "pygments_lexer": "ipython3",
   "version": "3.10.10"
  }
 },
 "nbformat": 4,
 "nbformat_minor": 5
}
